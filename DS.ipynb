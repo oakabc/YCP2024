# Install necessary packages
!pip install seaborn

# Import necessary libraries
import pandas as pd
import numpy as np
import matplotlib.pyplot as plt
import seaborn as sns

# Set the style for seaborn
sns.set(style="whitegrid")

# Generate sample data
np.random.seed(42)
data = pd.DataFrame({
    'Category': ['A', 'B', 'C', 'D', 'E'] * 2,
    'Value': np.random.randint(1, 100, 10),
    'Type': ['X'] * 5 + ['Y'] * 5
})

# Bar chart
plt.figure(figsize=(10, 6))
sns.barplot(x='Category', y='Value', hue='Type', data=data, palette='viridis')
plt.title('Bar Chart of Values by Category and Type')
plt.xlabel('Category')
plt.ylabel('Value')
plt.legend(title='Type')
plt.show()

# Generate heatmap data
heatmap_data = np.random.rand(10, 12)
heatmap_data = pd.DataFrame(heatmap_data, columns=[f'Month_{i+1}' for i in range(12)])
heatmap_data.index = [f'Year_{i+1}' for i in range(10)]

# Heatmap
plt.figure(figsize=(12, 8))
sns.heatmap(heatmap_data, cmap='viridis', annot=True)
plt.title('Heatmap of Random Data')
plt.xlabel('Month')
plt.ylabel('Year')
plt.show()

# Generate line plot data
line_data = pd.DataFrame({
    'Year': range(2010, 2021),
    'Value1': np.random.randint(50, 100, 11),
    'Value2': np.random.randint(30, 80, 11)
})

# Line plot
plt.figure(figsize=(10, 6))
sns.lineplot(x='Year', y='Value1', data=line_data, label='Value1', marker='o')
sns.lineplot(x='Year', y='Value2', data=line_data, label='Value2', marker='s')
plt.title('Line Plot of Values Over Years')
plt.xlabel('Year')
plt.ylabel('Value')
plt.legend(title='Values')
plt.show()

# Generate scatter plot data
scatter_data = pd.DataFrame({
    'X': np.random.randn(100),
    'Y': np.random.randn(100),
    'Category': np.random.choice(['A', 'B', 'C'], 100)
})

# Scatter plot
plt.figure(figsize=(10, 6))
sns.scatterplot(x='X', y='Y', hue='Category', style='Category', palette='viridis', data=scatter_data)
plt.title('Scatter Plot of Random Data')
plt.xlabel('X')
plt.ylabel('Y')
plt.legend(title='Category')
plt.show()
